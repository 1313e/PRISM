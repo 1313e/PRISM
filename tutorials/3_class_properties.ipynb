{
 "cells": [
  {
   "cell_type": "markdown",
   "metadata": {},
   "source": [
    "# Tutorial 3: PRISM class properties\n",
    "In this tutorial, we use the knowledge gained in the previous two tutorials to explore how the instance/class properties of the `Pipeline`, `Emulator` and `ModelLink` classes can be used for various tasks.\n",
    "This includes inspecting the state of the emulator; modifying the pipeline operations and more.\n",
    "It is assumed here that the reader has successfully completed the first two tutorials ([Basic usage](1_basic_usage.ipynb) and [ModelLink subclasses](2_modellink_subclasses.ipynb)) and has a basic understanding of Python instance/class properties."
   ]
  },
  {
   "cell_type": "markdown",
   "metadata": {},
   "source": [
    "For this tutorial, we will use the `LineLink` class definition that was introduced in the previous tutorial.\n",
    "Therefore, before we can begin, we have to define this class again, initialize the required classes and construct the first iteration:"
   ]
  },
  {
   "cell_type": "code",
   "execution_count": 1,
   "metadata": {},
   "outputs": [
    {
     "name": "stdout",
     "output_type": "stream",
     "text": [
      "\n",
      "PIPELINE DETAILS\n",
      "===============================\n",
      "\n",
      "GENERAL\n",
      "-------------------------------\n",
      "Working directory              \t'prism_line'\n",
      "Emulator type                  \t'default'\n",
      "ModelLink subclass             \tLineLink\n",
      "Emulation method               \tRegression + Gaussian\n",
      "Mock data used?                \tNo\n",
      "\n",
      "ITERATION\n",
      "-------------------------------\n",
      "Emulator iteration             \t1\n",
      "Construction completed?        \tYes\n",
      "Plausible regions?             \tYes\n",
      "Projections available?         \tNo\n",
      "-------------------------------\n",
      "# of model evaluation samples  \t100 ([100])\n",
      "# of plausible/analyzed samples\t150/32000\n",
      "% of parameter space remaining \t0.469%\n",
      "# of active/total parameters   \t2/2\n",
      "# of emulated data points      \t3\n",
      "# of emulator systems          \t3\n",
      "-------------------------------\n",
      "\n",
      "PARAMETER SPACE\n",
      "-------------------------------\n",
      "*A: [-10.0, 10.0] (3.00000)\n",
      "*B: [  0.0,  5.0] (1.50000)\n",
      "===============================\n",
      "Emulator iteration 1 has already been fully constructed. Skipping construction process.\n",
      "\n",
      "PIPELINE DETAILS\n",
      "===============================\n",
      "\n",
      "GENERAL\n",
      "-------------------------------\n",
      "Working directory              \t'prism_line'\n",
      "Emulator type                  \t'default'\n",
      "ModelLink subclass             \tLineLink\n",
      "Emulation method               \tRegression + Gaussian\n",
      "Mock data used?                \tNo\n",
      "\n",
      "ITERATION\n",
      "-------------------------------\n",
      "Emulator iteration             \t1\n",
      "Construction completed?        \tYes\n",
      "Plausible regions?             \tYes\n",
      "Projections available?         \tNo\n",
      "-------------------------------\n",
      "# of model evaluation samples  \t100 ([100])\n",
      "# of plausible/analyzed samples\t150/32000\n",
      "% of parameter space remaining \t0.469%\n",
      "# of active/total parameters   \t2/2\n",
      "# of emulated data points      \t3\n",
      "# of emulator systems          \t3\n",
      "-------------------------------\n",
      "\n",
      "PARAMETER SPACE\n",
      "-------------------------------\n",
      "*A: [-10.0, 10.0] (3.00000)\n",
      "*B: [  0.0,  5.0] (1.50000)\n",
      "===============================\n"
     ]
    }
   ],
   "source": [
    "# Imports\n",
    "import numpy as np\n",
    "from prism import Pipeline\n",
    "from prism.emulator import Emulator\n",
    "from prism.modellink import ModelLink\n",
    "\n",
    "# LineLink class definition\n",
    "class LineLink(ModelLink):\n",
    "    # Define default model parameters (optional)\n",
    "    def get_default_model_parameters(self):\n",
    "        par_dict = {\n",
    "            'A': [-10, 10, 3],  # Intercept in [-10, 10] with estimate of 3\n",
    "            'B': [0, 5, 1.5]}   # Slope in [0, 5] with estimate of 1.5\n",
    "        return(par_dict)\n",
    "\n",
    "    # Override call_model abstract method\n",
    "    def call_model(self, emul_i, par_set, data_idx):\n",
    "        # Calculate the value on a straight line for requested data_idx\n",
    "        vals = par_set['A']+np.array(data_idx)*par_set['B']\n",
    "        return(vals)\n",
    "\n",
    "    # Override get_md_var abstract method\n",
    "    def get_md_var(self, emul_i, par_set, data_idx):\n",
    "        # Calculate the model discrepancy variance\n",
    "        # For a straight line, this value can be set to a constant\n",
    "        return(1e-4*np.ones_like(data_idx))\n",
    "\n",
    "# LineLink initialization\n",
    "model_data = {1: [4.5, 0.1],    # f(1) = 4.5 +- 0.1\n",
    "              2.5: [6.8, 0.1],  # f(2.5) = 6.8 +- 0.1\n",
    "              -2: [0, 0.1]}     # f(-2) = 0 +- 0.1\n",
    "modellink_obj = LineLink(model_data=model_data)\n",
    "\n",
    "# Pipeline initialization\n",
    "pipe = Pipeline(modellink_obj, working_dir='prism_line')\n",
    "\n",
    "# Construction of first iteration\n",
    "pipe.construct(1)"
   ]
  },
  {
   "cell_type": "markdown",
   "metadata": {},
   "source": [
    "## Pipeline properties\n",
    "The `Pipeline` class holds all information that is required to perform all operations in *PRISM* that do not directly modify the emulator (which is contained in the `Emulator` class).\n",
    "This includes making projection figures; analyzing an emulator iteration (which does not modify the emulator itself); telling the `Emulator` how to construct an iteration; handling system paths; and many utility methods.\n",
    "As such, we are able to change most of the underlying `Pipeline` properties at any given moment.\n",
    "This allows us the modify the operations in the `Pipeline` without making direct changes to the `Emulator` (which could render specific results invalid).\n",
    "Note that many parameters of the `Pipeline` can be set during initialization by using the *prism_par* argument (see [PRISM parameters](https://prism-tool.readthedocs.io/en/latest/user/descriptions.html#prism-parameters) for their descriptions)."
   ]
  },
  {
   "cell_type": "markdown",
   "metadata": {},
   "source": [
    "When a new emulator is being constructed, the `Pipeline` object will generate a Latin-Hypercube design of `n_sam_init` samples, which by default is set to:"
   ]
  },
  {
   "cell_type": "code",
   "execution_count": 2,
   "metadata": {},
   "outputs": [
    {
     "data": {
      "text/plain": [
       "500"
      ]
     },
     "execution_count": 2,
     "metadata": {},
     "output_type": "execute_result"
    }
   ],
   "source": [
    "pipe.n_sam_init"
   ]
  },
  {
   "cell_type": "markdown",
   "metadata": {},
   "source": [
    "These samples are then evaluated in the model and used to construct an emulator.\n",
    "However, for a model like the one in our `LineLink`, this is probably a bit overkill.\n",
    "So, we could set it to, let's say, $100$ and reconstruct the first iteration of the emulator:"
   ]
  },
  {
   "cell_type": "code",
   "execution_count": 3,
   "metadata": {},
   "outputs": [
    {
     "name": "stdout",
     "output_type": "stream",
     "text": [
      "Finished obtaining and distributing model realization data in 0.0528 seconds, averaging 0.000528 seconds per model evaluation.\n",
      "Finished construction of emulator iteration in 0.75 seconds.\n",
      "Finished analysis of emulator iteration in 0.72 seconds, averaging 2240.40 emulator evaluations per second.\n",
      "There is 0.375% of parameter space remaining.\n",
      "\n",
      "PIPELINE DETAILS\n",
      "===============================\n",
      "\n",
      "GENERAL\n",
      "-------------------------------\n",
      "Working directory              \t'prism_line'\n",
      "Emulator type                  \t'default'\n",
      "ModelLink subclass             \tLineLink\n",
      "Emulation method               \tRegression + Gaussian\n",
      "Mock data used?                \tNo\n",
      "\n",
      "ITERATION\n",
      "-------------------------------\n",
      "Emulator iteration             \t1\n",
      "Construction completed?        \tYes\n",
      "Plausible regions?             \tYes\n",
      "Projections available?         \tNo\n",
      "-------------------------------\n",
      "# of model evaluation samples  \t100 ([100])\n",
      "# of plausible/analyzed samples\t6/1600\n",
      "% of parameter space remaining \t0.375%\n",
      "# of active/total parameters   \t2/2\n",
      "# of emulated data points      \t3\n",
      "# of emulator systems          \t3\n",
      "-------------------------------\n",
      "\n",
      "PARAMETER SPACE\n",
      "-------------------------------\n",
      "*A: [-10.0, 10.0] (3.00000)\n",
      "*B: [  0.0,  5.0] (1.50000)\n",
      "===============================\n"
     ]
    },
    {
     "name": "stderr",
     "output_type": "stream",
     "text": [
      "/home/evandervelden/stack/PhD/PRISM/prism/_pipeline.py:2719: RequestWarning: Number of plausible samples is lower than the number of samples in the first iteration (6 < 100). Constructing the next iteration might not produce a more accurate emulator.\n",
      "  self.analyze()\n"
     ]
    }
   ],
   "source": [
    "pipe.n_sam_init = 100\n",
    "pipe.construct(1, force=True)"
   ]
  },
  {
   "cell_type": "markdown",
   "metadata": {},
   "source": [
    "Here, we reconstructed the first iteration of the emulator by first setting `n_sam_init` to $100$ and then calling the `construct()`-method with *force=True* (which overrides the default behavior of skipping construction if already finished).\n",
    "Although the part of parameter space that is still remaining is fairly similar as before, we can see that the evaluation rate of the emulator has significantly increased.\n",
    "This could potentially be very beneficial to us if we were to evaluate the emulator many times in later iterations.\n",
    "\n",
    "However, we can also see that *PRISM* is warning us that there are probably not enough plausible samples to construct a more accurate emulator iteration.\n",
    "The reason for this is because there is such a small part of parameter space still remaining as plausible, that we have to evaluate much more samples to obtain a decent number of plausible samples.\n",
    "The number of samples that are evaluated in the emulator during an analysis is influenced by the iteration number, the number of model parameters `n_par` and the base evaluation number `base_eval_sam`.\n",
    "While we obviously cannot change the iteration number or the number of model parameters, we can change the base evaluation number."
   ]
  },
  {
   "cell_type": "markdown",
   "metadata": {},
   "source": [
    "At this moment, the base evaluation number is set to:"
   ]
  },
  {
   "cell_type": "code",
   "execution_count": 4,
   "metadata": {},
   "outputs": [
    {
     "data": {
      "text/plain": [
       "800"
      ]
     },
     "execution_count": 4,
     "metadata": {},
     "output_type": "execute_result"
    }
   ],
   "source": [
    "pipe.base_eval_sam"
   ]
  },
  {
   "cell_type": "markdown",
   "metadata": {},
   "source": [
    "As we used $100$ samples for the first iteration and we want to have at least this many plausible samples for the next iteration, let's set `base_eval_sam` to $16000$ and reanalyze the iteration:"
   ]
  },
  {
   "cell_type": "code",
   "execution_count": 5,
   "metadata": {},
   "outputs": [
    {
     "name": "stdout",
     "output_type": "stream",
     "text": [
      "Finished analysis of emulator iteration in 15.17 seconds, averaging 2110.81 emulator evaluations per second.\n",
      "There is 0.516% of parameter space remaining.\n",
      "\n",
      "PIPELINE DETAILS\n",
      "===============================\n",
      "\n",
      "GENERAL\n",
      "-------------------------------\n",
      "Working directory              \t'prism_line'\n",
      "Emulator type                  \t'default'\n",
      "ModelLink subclass             \tLineLink\n",
      "Emulation method               \tRegression + Gaussian\n",
      "Mock data used?                \tNo\n",
      "\n",
      "ITERATION\n",
      "-------------------------------\n",
      "Emulator iteration             \t1\n",
      "Construction completed?        \tYes\n",
      "Plausible regions?             \tYes\n",
      "Projections available?         \tNo\n",
      "-------------------------------\n",
      "# of model evaluation samples  \t100 ([100])\n",
      "# of plausible/analyzed samples\t165/32000\n",
      "% of parameter space remaining \t0.516%\n",
      "# of active/total parameters   \t2/2\n",
      "# of emulated data points      \t3\n",
      "# of emulator systems          \t3\n",
      "-------------------------------\n",
      "\n",
      "PARAMETER SPACE\n",
      "-------------------------------\n",
      "*A: [-10.0, 10.0] (3.00000)\n",
      "*B: [  0.0,  5.0] (1.50000)\n",
      "===============================\n"
     ]
    }
   ],
   "source": [
    "pipe.base_eval_sam = 16000\n",
    "pipe.analyze()"
   ]
  },
  {
   "cell_type": "markdown",
   "metadata": {},
   "source": [
    "And now we have enough plausible samples for the next iteration."
   ]
  },
  {
   "cell_type": "markdown",
   "metadata": {},
   "source": [
    "If we wanted to, we could check how many samples have been evaluated, how many are plausible and what they are:"
   ]
  },
  {
   "cell_type": "code",
   "execution_count": 6,
   "metadata": {},
   "outputs": [
    {
     "name": "stdout",
     "output_type": "stream",
     "text": [
      "Number of evaluated samples in iteration 1: 32000\n",
      "Number of plausible samples in iteration 1: 165\n",
      "Plausible samples: [[2.8521875  1.27085938]\n",
      " [3.0446875  1.70039063]\n",
      " [2.8284375  1.29882812]\n",
      " [2.7453125  1.64257812]\n",
      " [3.1709375  1.31914062]\n",
      " [2.8771875  1.68789063]\n",
      " [2.7721875  1.38960938]\n",
      " [3.2334375  1.58335938]\n",
      " [3.1521875  1.38867188]\n",
      " [2.5040625  1.62226563]\n",
      " [2.6771875  1.76601563]\n",
      " [2.9871875  1.36023438]\n",
      " [3.8153125  1.08226563]\n",
      " [2.3684375  1.76570312]\n",
      " [2.9078125  1.27304688]\n",
      " [3.2353125  1.48742188]\n",
      " [3.1209375  1.71757812]\n",
      " [3.3265625  1.26351563]\n",
      " [3.1371875  1.55554688]\n",
      " [3.2109375  1.65117187]\n",
      " [2.2403125  1.88601562]\n",
      " [3.2115625  1.38460937]\n",
      " [3.3046875  1.33789062]\n",
      " [2.6965625  1.75148437]\n",
      " [3.1703125  1.62054688]\n",
      " [2.6490625  1.57445312]\n",
      " [2.9409375  1.57054688]\n",
      " [3.0528125  1.34742187]\n",
      " [2.8746875  1.35882813]\n",
      " [2.1271875  2.01429688]\n",
      " [2.4340625  1.84554687]\n",
      " [3.1753125  1.69742188]\n",
      " [3.2378125  1.46710937]\n",
      " [2.9946875  1.31414062]\n",
      " [3.0015625  1.67492187]\n",
      " [2.4378125  1.70539063]\n",
      " [2.7046875  1.58789063]\n",
      " [3.5909375  1.28039063]\n",
      " [2.5378125  1.85757813]\n",
      " [3.2528125  1.57335938]\n",
      " [2.8971875  1.52398437]\n",
      " [2.7971875  1.34945313]\n",
      " [2.9934375  1.47070313]\n",
      " [3.0121875  1.35726562]\n",
      " [2.8296875  1.28304688]\n",
      " [3.2165625  1.68101563]\n",
      " [2.6609375  1.49039062]\n",
      " [3.4921875  1.31351563]\n",
      " [2.4809375  1.71148437]\n",
      " [3.0678125  1.43929688]\n",
      " [3.2546875  1.37945312]\n",
      " [3.5071875  1.16117187]\n",
      " [3.1334375  1.64367188]\n",
      " [3.2890625  1.61242188]\n",
      " [2.8209375  1.28710938]\n",
      " [2.8453125  1.69585937]\n",
      " [2.3890625  1.92039063]\n",
      " [2.7015625  1.69976562]\n",
      " [2.6596875  1.73132813]\n",
      " [2.8134375  1.36929688]\n",
      " [3.2821875  1.43460937]\n",
      " [2.9390625  1.31976563]\n",
      " [3.0921875  1.35476563]\n",
      " [3.0521875  1.71054688]\n",
      " [2.9178125  1.69007813]\n",
      " [3.1471875  1.51679687]\n",
      " [2.9628125  1.44757812]\n",
      " [2.6803125  1.62726563]\n",
      " [2.6915625  1.58039062]\n",
      " [3.5478125  1.18054688]\n",
      " [3.1353125  1.44851562]\n",
      " [3.1796875  1.60554688]\n",
      " [2.9259375  1.67445312]\n",
      " [2.4046875  1.86632813]\n",
      " [3.1453125  1.63445312]\n",
      " [3.5834375  1.24773438]\n",
      " [2.9196875  1.58570312]\n",
      " [3.1903125  1.33554687]\n",
      " [2.6465625  1.47492187]\n",
      " [2.7728125  1.76898438]\n",
      " [2.5146875  1.78257813]\n",
      " [2.8740625  1.40914063]\n",
      " [3.1440625  1.35335938]\n",
      " [2.7865625  1.31679688]\n",
      " [2.4815625  1.72101562]\n",
      " [3.3321875  1.23648438]\n",
      " [3.6959375  1.14304688]\n",
      " [2.5434375  1.61523438]\n",
      " [2.7246875  1.67039063]\n",
      " [3.0253125  1.55585937]\n",
      " [3.3315625  1.41835938]\n",
      " [3.1490625  1.65304687]\n",
      " [2.3396875  1.83960937]\n",
      " [3.0728125  1.52664062]\n",
      " [2.7996875  1.46226562]\n",
      " [2.5334375  1.64539063]\n",
      " [2.5765625  1.59914062]\n",
      " [2.5428125  1.80617187]\n",
      " [2.7315625  1.49304688]\n",
      " [3.2634375  1.60851562]\n",
      " [3.4928125  1.30601562]\n",
      " [2.5971875  1.62820313]\n",
      " [3.6490625  1.21414062]\n",
      " [3.2778125  1.24945313]\n",
      " [2.5884375  1.63914063]\n",
      " [2.8709375  1.36742188]\n",
      " [2.5353125  1.63304687]\n",
      " [2.1859375  1.92195312]\n",
      " [2.5540625  1.74304688]\n",
      " [3.2203125  1.33585938]\n",
      " [2.5228125  1.74867188]\n",
      " [3.4740625  1.25523438]\n",
      " [3.0615625  1.50617187]\n",
      " [2.9540625  1.35195313]\n",
      " [3.3671875  1.45148438]\n",
      " [3.0909375  1.55664062]\n",
      " [2.6565625  1.53664062]\n",
      " [3.1421875  1.75242188]\n",
      " [3.2159375  1.29585938]\n",
      " [3.2215625  1.49554688]\n",
      " [2.6715625  1.70617187]\n",
      " [3.3015625  1.46789063]\n",
      " [2.7034375  1.48117188]\n",
      " [2.9953125  1.38039062]\n",
      " [2.4934375  1.82257813]\n",
      " [3.2734375  1.47648438]\n",
      " [3.5215625  1.16585937]\n",
      " [3.6353125  1.13023438]\n",
      " [3.3303125  1.32304688]\n",
      " [2.6503125  1.71164062]\n",
      " [2.2134375  1.94523438]\n",
      " [2.4490625  1.86585938]\n",
      " [3.2271875  1.67101563]\n",
      " [2.2371875  1.93179688]\n",
      " [2.3578125  1.86945313]\n",
      " [3.7784375  1.10273438]\n",
      " [3.1865625  1.65648438]\n",
      " [2.0853125  2.02179687]\n",
      " [3.3771875  1.39851563]\n",
      " [3.1559375  1.50632813]\n",
      " [3.4703125  1.18414062]\n",
      " [3.6634375  1.14351563]\n",
      " [2.6259375  1.77539062]\n",
      " [3.4728125  1.19007813]\n",
      " [3.2978125  1.25664063]\n",
      " [2.5190625  1.67585937]\n",
      " [2.7390625  1.60054688]\n",
      " [2.4384375  1.81460938]\n",
      " [2.7471875  1.41976563]\n",
      " [2.6878125  1.73398437]\n",
      " [3.1359375  1.50664062]\n",
      " [3.1771875  1.37398438]\n",
      " [3.3340625  1.42960938]\n",
      " [3.7534375  1.11851563]\n",
      " [3.7178125  1.16304688]\n",
      " [3.1496875  1.65882813]\n",
      " [2.6315625  1.76414063]\n",
      " [2.4140625  1.83398438]\n",
      " [3.5490625  1.19835938]\n",
      " [3.0409375  1.58023438]\n",
      " [2.8090625  1.68523437]\n",
      " [3.5496875  1.20523437]\n",
      " [2.9353125  1.36039062]\n",
      " [3.3796875  1.38101562]\n",
      " [2.4990625  1.62320313]]\n"
     ]
    }
   ],
   "source": [
    "print(\"Number of evaluated samples in iteration 1: %i\" % (pipe.n_eval_sam[1]))\n",
    "print(\"Number of plausible samples in iteration 1: %i\" % (pipe.n_impl_sam[1]))\n",
    "print(\"Plausible samples: %s\" % (pipe.impl_sam))"
   ]
  },
  {
   "cell_type": "markdown",
   "metadata": {},
   "source": [
    "The two numbers in the output show us the same thing as the `details()` overview, but we can also see that all the plausible samples are quite clustered.\n",
    "This would mean that the next emulator iteration is going to be much more accurate than the current one.\n",
    "Note that another way to increase the number of plausible samples in an iteration, is by changing the implausibility parameters, as shown in the first tutorial."
   ]
  },
  {
   "cell_type": "markdown",
   "metadata": {},
   "source": [
    "A few other useful properties are:"
   ]
  },
  {
   "cell_type": "code",
   "execution_count": 7,
   "metadata": {},
   "outputs": [
    {
     "name": "stdout",
     "output_type": "stream",
     "text": [
      "Path to emulator HDF5-file: '/home/evandervelden/stack/PhD/PRISM/tutorials/prism_line/prism.hdf5'\n",
      "Is file-logging enabled? True\n",
      "Are parameters split into active and passive parameters? True\n",
      "Bound ModelLink object: LineLink(model_parameters={'A': [-10.0, 10.0, 3.0], 'B': [0.0, 5.0, 1.5]}, model_data={1: [4.5, 0.1], 2.5: [6.8, 0.1], -2: [0.0, 0.1]})\n"
     ]
    }
   ],
   "source": [
    "print(\"Path to emulator HDF5-file: %r\" % (pipe.hdf5_file))\n",
    "print(\"Is file-logging enabled? %s\" % (pipe.do_logging))\n",
    "print(\"Are parameters split into active and passive parameters? %s\" % (pipe.do_active_anal))\n",
    "print(\"Bound ModelLink object: %s\" % (pipe.modellink))"
   ]
  },
  {
   "cell_type": "markdown",
   "metadata": {},
   "source": [
    "## Emulator properties\n",
    "Whereas it can be useful to look at the `Pipeline` properties, it does not tell us anything about the state of the emulator itself.\n",
    "Although they cannot be modified, looking at the `Emulator` properties can give us a lot of information.\n",
    "As the underlying algorithms of *PRISM* involve a lot of math, they can however be a bit harder to understand.\n",
    "These properties can be accessed with `pipe.emulator.xxx`."
   ]
  },
  {
   "cell_type": "markdown",
   "metadata": {},
   "source": [
    "Probably the most interesting and useful property to look at, is the `poly_terms` property:"
   ]
  },
  {
   "cell_type": "code",
   "execution_count": 8,
   "metadata": {},
   "outputs": [
    {
     "data": {
      "text/plain": [
       "{1: {'A': 1.0, 'B': 0.9999999999999998},\n",
       " 2.5: {'A': 1.0000000000000002, 'B': 2.500000000000001},\n",
       " -2: {'A': 1.0000000000000002, 'B': -2.0}}"
      ]
     },
     "execution_count": 8,
     "metadata": {},
     "output_type": "execute_result"
    }
   ],
   "source": [
    "pipe.emulator.poly_terms[1]"
   ]
  },
  {
   "cell_type": "markdown",
   "metadata": {},
   "source": [
    "This dictionary shows us what the polynomial terms are for calculating every data point in the first emulator iteration.\n",
    "So, if we remember that our model is given by the function $f(x) = A+Bx$, then we can immediately see that the polynomial terms are very close to what the real terms should look like, where $A$ is multiplied by unity and $B$ is multiplied by whatever the value of $x$ is for that data point."
   ]
  },
  {
   "cell_type": "markdown",
   "metadata": {},
   "source": [
    "The performance of the emulator iteration can also be checked by looking at the amount of variance in the model outputs that it could not explain with the polynomial functions.\n",
    "This variance is called the *residual variance*, and a general rule is that the lower it is, the more accurate the emulator is:"
   ]
  },
  {
   "cell_type": "code",
   "execution_count": 9,
   "metadata": {},
   "outputs": [
    {
     "data": {
      "text/plain": [
       "[3.7581826562794764e-31, 5.624578254225814e-30, 3.400976577634087e-30]"
      ]
     },
     "execution_count": 9,
     "metadata": {},
     "output_type": "execute_result"
    }
   ],
   "source": [
    "pipe.emulator.rsdl_var[1]"
   ]
  },
  {
   "cell_type": "markdown",
   "metadata": {},
   "source": [
    "These values tell us basically the same thing as the `poly_terms` property, just in a different way: the emulator is capturing basically all model behavior.\n",
    "The difference between these two properties however, is that we usually do not know what the polynomial terms should look like, while we do know that a low residual variance is a good thing.\n",
    "Therefore, it is usually best to view both at the same time, where the `rsdl_var` tells us how much we should believe that the `poly_terms` are accurate."
   ]
  },
  {
   "cell_type": "code",
   "execution_count": null,
   "metadata": {},
   "outputs": [],
   "source": []
  }
 ],
 "metadata": {
  "kernelspec": {
   "display_name": "Python 3",
   "language": "python",
   "name": "python3"
  },
  "language_info": {
   "codemirror_mode": {
    "name": "ipython",
    "version": 3
   },
   "file_extension": ".py",
   "mimetype": "text/x-python",
   "name": "python",
   "nbconvert_exporter": "python",
   "pygments_lexer": "ipython3",
   "version": "3.6.8"
  }
 },
 "nbformat": 4,
 "nbformat_minor": 4
}
