{
 "cells": [
  {
   "cell_type": "markdown",
   "metadata": {},
   "source": [
    "# Tutorial 2: ModelLink subclasses\n",
    "In this tutorial, the `ModelLink` abstract base class is introduced and an example is given on how to wrap your model by writing a `ModelLink` subclass.\n",
    "It is assumed here that the reader has successfully completed the previous tutorial ([Basic usage](1_basic_usage.ipynb)) and understands the basics of Python (sub)classes.\n",
    "For a more detailed overview of the `ModelLink` abstract base class and its properties, see the [ModelLink crash course](https://prism-tool.readthedocs.io/en/latest/user/modellink_crash_course.html)."
   ]
  },
  {
   "cell_type": "markdown",
   "metadata": {},
   "source": [
    "Before we get started, let's import all definitions that we are going to need in this tutorial:"
   ]
  },
  {
   "cell_type": "code",
   "execution_count": null,
   "metadata": {},
   "outputs": [],
   "source": [
    "import numpy as np\n",
    "from prism import Pipeline\n",
    "from prism.modellink import GaussianLink, ModelLink, test_subclass"
   ]
  },
  {
   "cell_type": "markdown",
   "metadata": {},
   "source": [
    "## ModelLink abstract base class\n",
    "To help *PRISM* users with wrapping their models and making them callable by the `Pipeline`, *PRISM* provides the `ModelLink` *abstract base class*.\n",
    "In Python, an abstract base class is a special type of (base) class whose sole purpose is to be subclassed.\n",
    "They cannot be initialized on their own (unlike normal classes or base classes, like the `Pipeline` class), but instead provide a basic \"skeleton\" of how the subclass should look like.\n",
    "This usually includes many properties that are automatically set during initialization; helper functions that we (or internal operations) can use to write/use the subclass; and several *abstract methods*.\n",
    "An abstract method is a method in an abstract base class that MUST be overridden by the subclass before it can be initialized (which is why an abstract base class cannot be initialized, as its abstract methods have not been overridden).\n",
    "We can think of an abstract base class as a check-list of all items and properties that its subclasses must have, with most items being handled automatically."
   ]
  },
  {
   "cell_type": "markdown",
   "metadata": {},
   "source": [
    "Below is a minimal example of what the structure of a `ModelLink` subclass looks like:\n",
    "```python\n",
    "# ExampleLink class definition\n",
    "class ExampleLink(ModelLink):\n",
    "    # Extend class constructor\n",
    "    def __init__(self, *args, **kwargs):\n",
    "        # Perform any custom operations here\n",
    "        pass\n",
    "\n",
    "        # Set ModelLink flags (name, call_type, MPI_call)\n",
    "        pass\n",
    "\n",
    "        # Call superclass constructor\n",
    "        super().__init__(*args, **kwargs)\n",
    "\n",
    "    # Override default model parameters (optional)\n",
    "    def get_default_model_parameters(self):\n",
    "        par_dict = {}\n",
    "        return(par_dict)\n",
    "\n",
    "    # Override default model data (optional)\n",
    "    def get_default_model_data(self):\n",
    "        data_dict = {}\n",
    "        return(data_dict)\n",
    "\n",
    "    # Override call_model abstract method\n",
    "    def call_model(self, emul_i, par_set, data_idx):\n",
    "        # Perform operations for obtaining the model output\n",
    "        # Following is provided:\n",
    "        # 'emul_i': Requested iteration\n",
    "        # 'par_set': Requested sample(s) dict\n",
    "        # 'data_idx': Requested data point(s)\n",
    "        pass\n",
    "\n",
    "    # Override get_md_var abstract method\n",
    "    def get_md_var(self, emul_i, par_set, data_idx):\n",
    "        # Perform operations for obtaining the model discrepancy variance\n",
    "        # Following is provided:\n",
    "        # 'emul_i': Requested iteration\n",
    "        # 'par_set': Requested sample dict\n",
    "        # 'data_idx': Requested data point(s)\n",
    "        pass\n",
    "```\n",
    "We can see in the definition of the `ExampleLink` class above, that the `ModelLink` class contains a few basic utility methods and two abstract methods that must be overridden: `call_model()` (wrapper function for calling the model) and `get_md_var()` (calculates the model discrepancy variance).\n",
    "As both methods are very important, detailed descriptions of them are given in [Wrapping a model](https://prism-tool.readthedocs.io/en/latest/user/modellink_crash_course.html#call-model) and [Model discrepancy variance](https://prism-tool.readthedocs.io/en/latest/user/modellink_crash_course.html#md-var), respectively."
   ]
  },
  {
   "cell_type": "markdown",
   "metadata": {},
   "source": [
    "We can check the list of definitions bound to the `ModelLink` class by executing:"
   ]
  },
  {
   "cell_type": "code",
   "execution_count": null,
   "metadata": {},
   "outputs": [],
   "source": [
    "[prop for prop in dir(ModelLink) if not prop.startswith('__')]"
   ]
  },
  {
   "cell_type": "markdown",
   "metadata": {},
   "source": [
    "This shows us that the few definitions that are overridden in the `ExampleLink` class are not nearly all the definitions that the `ModelLink` class has.\n",
    "Most of the definitions we see in this list are either class properties or utility functions that are used by the `Pipeline`."
   ]
  },
  {
   "cell_type": "markdown",
   "metadata": {},
   "source": [
    "### Basic properties\n",
    "Before we can write a `ModelLink` subclass, we first have to understand what exactly is happening in the `ExampleLink` class given above.\n",
    "Since every model is different, with some requiring preparations in order to work properly, the constructor method (`__init__()`) may be extended to include any custom code to be executed when the subclass is initialized.\n",
    "The superclass constructor (`__init__()` of `ModelLink`) must always be called, as it sets several important flags and properties, but the time at which this is done does not matter for *PRISM* itself.\n",
    "During the initialization of the `Emulator` class (initialized automatically by `Pipeline`), it is checked whether or not the superclass constructor of a provided `ModelLink` instance was called (to avoid this from being forgotten).\n",
    "\n",
    "Besides executing custom code, three properties/flags can be set in the constructor, which have the following default values if the extended constructor does not set them:\n",
    "```python\n",
    "self.name = self.__class__.__name__ # Set instance name to the name of the class\n",
    "self.call_type = 'single'           # Request single model calls\n",
    "self.MPI_call = False               # Request only controller calls \n",
    "```\n",
    "\n",
    "The first property, `name`, defines the name of the `ModelLink` instance, which by default is set to the name of the subclass.\n",
    "This name is used by the `Emulator` class during initialization to check if a constructed emulator is linked to the proper `ModelLink` instance, in order to avoid causing mismatches.\n",
    "If we want to use the same `ModelLink` subclass for different models (like, we want to use different parameter spaces), then it is recommended that we add an identifier for this to this name.\n",
    "\n",
    "The other two properties, `call_type` and `MPI_call`, are flags that tell *PRISM* how the `call_model()`-method should be used.\n",
    "They are mostly important when using sophisticated models in MPI and are best unset in simple cases.\n",
    "By default, *PRISM* requests samples one-by-one (in serial), which is the easiest to implement for the user.\n",
    "\n",
    "Finally, the `ModelLink` class has three methods that can be overridden for adding utility to the class (of which two are shown in the `ExampleLink` class definition).\n",
    "The important ones, `get_default_model_parameters()` and `get_default_model_data()`, return dictionaries containing the default model parameters and model data to use in this `ModelLink` instance, respectively.\n",
    "By overriding these methods, we can hard-code the use of specific parameters or comparison data, avoiding having to provide them when initializing the `ModelLink` subclass.\n",
    "Additionally, if we were to provide a default parameter or data point during initialization, the provided information will override the defaults."
   ]
  },
  {
   "cell_type": "markdown",
   "metadata": {},
   "source": [
    "We can find an example of this in the `GaussianLink` class, which already has default parameters defined (as mentioned in the previous tutorial):"
   ]
  },
  {
   "cell_type": "code",
   "execution_count": null,
   "metadata": {},
   "outputs": [],
   "source": [
    "model_data = {3: [3.0, 0.1]}\n",
    "modellink_obj = GaussianLink(model_data=model_data)\n",
    "modellink_obj"
   ]
  },
  {
   "cell_type": "markdown",
   "metadata": {},
   "source": [
    "If we now initialize the `GaussianLink` class using a custom set of parameters, its defaults will be overridden as shown by its modified representation:"
   ]
  },
  {
   "cell_type": "code",
   "execution_count": null,
   "metadata": {},
   "outputs": [],
   "source": [
    "model_parameters = {'A1': [-5, 7, 2]}\n",
    "modellink_obj = GaussianLink(model_parameters=model_parameters, model_data=model_data)\n",
    "modellink_obj"
   ]
  },
  {
   "cell_type": "markdown",
   "metadata": {},
   "source": [
    "## Writing a ModelLink subclass\n",
    "Now that we have a basic understanding of how to write a `ModelLink` subclass, let's use the template of the `ExampleLink` class from before to make a `ModelLink` subclass for a straight line model, defined as $f(x) = A+Bx$:"
   ]
  },
  {
   "cell_type": "code",
   "execution_count": null,
   "metadata": {},
   "outputs": [],
   "source": [
    "# LineLink class definition\n",
    "class LineLink(ModelLink):\n",
    "    # Define default model parameters (optional)\n",
    "    def get_default_model_parameters(self):\n",
    "        par_dict = {\n",
    "            'A': [-10, 10, 3],  # Intercept in [-10, 10] with estimate of 3\n",
    "            'B': [0, 5, 1.5]}   # Slope in [0, 5] with estimate of 1.5\n",
    "        return(par_dict)\n",
    "\n",
    "    # Override call_model abstract method\n",
    "    def call_model(self, emul_i, par_set, data_idx):\n",
    "        # Calculate the value on a straight line for requested data_idx\n",
    "        vals = par_set['A']+np.array(data_idx)*par_set['B']\n",
    "        return(vals)\n",
    "\n",
    "    # Override get_md_var abstract method\n",
    "    def get_md_var(self, emul_i, par_set, data_idx):\n",
    "        # Calculate the model discrepancy variance\n",
    "        # For a straight line, this value can be set to a constant\n",
    "        return(1e-4*np.ones_like(data_idx))"
   ]
  },
  {
   "cell_type": "markdown",
   "metadata": {},
   "source": [
    "Here, we created a `ModelLink` subclass called `LineLink`.\n",
    "As the `LineLink` class is quite simple, it is not necessary to make any adjustments to the class constructor, so we simply removed it.\n",
    "We have defined default parameters for our straight line model to avoid having to provide it when we initialize the `LineLink` class.\n",
    "In the `call_model()`-method, we implemented the algorithm for calculating the value on a straight line.\n",
    "Although generally not recommended, we used a very basic description for calculating the model discrepancy variance."
   ]
  },
  {
   "cell_type": "markdown",
   "metadata": {},
   "source": [
    "In order to help users with writing their `ModelLink` subclass, *PRISM* provides an utility function called `test_subclass()` (`prism.modellink.test_subclass`).\n",
    "This function takes a `ModelLink` subclass and all arguments that must be provided to it, and tests if it can be initialized and used properly.\n",
    "If this is the case, it returns the created instance of the provided `ModelLink` subclass, which can then be used in the `Pipeline`."
   ]
  },
  {
   "cell_type": "markdown",
   "metadata": {},
   "source": [
    "So, let's see if we have written our `LineLink` class properly:"
   ]
  },
  {
   "cell_type": "code",
   "execution_count": null,
   "metadata": {},
   "outputs": [],
   "source": [
    "data_dict = {1: [4.5, 0.1],    # f(1) = 4.5 +- 0.1\n",
    "             2.5: [6.8, 0.1],  # f(2.5) = 6.8 +- 0.1\n",
    "             -2: [0, 0.1]}     # f(-2) = 0 +- 0.1\n",
    "modellink_obj = test_subclass(LineLink, model_data=model_data)"
   ]
  },
  {
   "cell_type": "markdown",
   "metadata": {},
   "source": [
    "As no errors are being raised, it seems that we indeed wrote it correctly.\n",
    "In case we had made a mistake, the `test_subclass()`-function would have raised an error telling us what exactly went wrong and what probably caused this."
   ]
  },
  {
   "cell_type": "markdown",
   "metadata": {},
   "source": [
    "Now that we have our own custom `ModelLink` instance, we can initialize the `Pipeline` (this time using a specific working directory to avoid clashing with the previous one):"
   ]
  },
  {
   "cell_type": "code",
   "execution_count": null,
   "metadata": {},
   "outputs": [],
   "source": [
    "pipe = Pipeline(modellink_obj, working_dir='prism_line')\n",
    "pipe"
   ]
  },
  {
   "cell_type": "markdown",
   "metadata": {},
   "source": [
    "Like before, as no errors are being raised, *PRISM* is ready to start emulating."
   ]
  }
 ],
 "metadata": {
  "kernelspec": {
   "display_name": "Python 3",
   "language": "python",
   "name": "python3"
  },
  "language_info": {
   "codemirror_mode": {
    "name": "ipython",
    "version": 3
   },
   "file_extension": ".py",
   "mimetype": "text/x-python",
   "name": "python",
   "nbconvert_exporter": "python",
   "pygments_lexer": "ipython3",
   "version": "3.6.8"
  }
 },
 "nbformat": 4,
 "nbformat_minor": 4
}
